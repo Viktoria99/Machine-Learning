{
 "cells": [
  {
   "cell_type": "code",
   "execution_count": 1,
   "metadata": {},
   "outputs": [
    {
     "output_type": "execute_result",
     "data": {
      "text/plain": "start_time                  97230\nlobby_type                  97230\nr1_hero                     97230\nr1_level                    97230\nr1_xp                       97230\n                            ...  \ndire_tpscroll_count         97230\ndire_boots_count            97230\ndire_ward_observer_count    97230\ndire_ward_sentry_count      97230\ndire_first_ward_time        95404\nLength: 102, dtype: int64"
     },
     "metadata": {},
     "execution_count": 1
    }
   ],
   "source": [
    "## Подход 1: градиентный бустинг \"в лоб\"\n",
    "## №1 и №2\n",
    "import pandas\n",
    "import numpy as np\n",
    "import time\n",
    "import datetime\n",
    "\n",
    "features = pandas.read_csv('./features.csv', index_col='match_id')\n",
    "gameFeature = features.iloc[:,:102]\n",
    "gameFeature.count()"
   ]
  },
  {
   "cell_type": "code",
   "execution_count": 1,
   "metadata": {
    "tags": []
   },
   "outputs": [
    {
     "output_type": "stream",
     "name": "stdout",
     "text": "Time elapsed: 0:07:16.752567\nТочность: 0.6949009813865932\nTime elapsed: 0:10:23.009732\nТочность: 0.6974382390157825\nTime elapsed: 0:10:24.683604\nТочность: 0.7000025685418078\n"
    }
   ],
   "source": [
    "## Подход 1: градиентный бустинг \"в лоб\"\n",
    "## №3,4,5\n",
    "## radiant_win - целевая переменная\n",
    "import pandas\n",
    "import numpy as np\n",
    "import time\n",
    "import datetime\n",
    "from sklearn.model_selection import KFold\n",
    "from sklearn.model_selection import cross_val_score\n",
    "from sklearn.ensemble import GradientBoostingClassifier\n",
    "\n",
    "features = pandas.read_csv('./features.csv', index_col='match_id')\n",
    "gameFeature = features.iloc[:,:102]\n",
    "X_data = gameFeature.fillna(0)\n",
    "y_data = features.iloc[:,103]\n",
    "\n",
    "kf = KFold(n_splits=5, shuffle=True)\n",
    "\n",
    "for treeNumber in [40,50,60]:\n",
    "    start_time = datetime.datetime.now()\n",
    "    gbc = GradientBoostingClassifier(n_estimators=treeNumber, random_state=241)\n",
    "    vals = cross_val_score(gbc, X=X_data, y=y_data, cv=kf, scoring='roc_auc')\n",
    "    print ('Time elapsed:', datetime.datetime.now() - start_time)\n",
    "    scoreCross = np.mean(vals)\n",
    "    print('Точность:',scoreCross)"
   ]
  },
  {
   "cell_type": "code",
   "execution_count": null,
   "metadata": {},
   "outputs": [],
   "source": [
    "##Подход 2: логистическая регрессия\n",
    "## №1\n",
    "\n",
    "import pandas\n",
    "import numpy as np\n",
    "import time\n",
    "import datetime\n",
    "from sklearn.model_selection import KFold\n",
    "from sklearn.model_selection import cross_val_score\n",
    "from sklearn.linear_model import LogisticRegression\n",
    "\n",
    "features = pandas.read_csv('./features.csv', index_col='match_id')\n",
    "gameFeature = features.iloc[:,:102]\n",
    "X_data = gameFeature.fillna(0)\n",
    "y_data = features.iloc[:,103]\n",
    "\n",
    "kf = KFold(n_splits=5, shuffle=True)\n",
    "\n",
    "for C_value in [1,10,20,30]:\n",
    "    start_time = datetime.datetime.now()\n",
    "    lgr = LogisticRegression(penalty='l2',C=C_value)\n",
    "    vals = cross_val_score(lgr, X=X_data, y=y_data, cv=kf, scoring='roc_auc')\n",
    "    print ('Time elapsed:', datetime.datetime.now() - start_time)\n",
    "    scoreCross = np.mean(vals)\n",
    "    print('Точность:',scoreCross)"
   ]
  },
  {
   "cell_type": "code",
   "execution_count": null,
   "metadata": {},
   "outputs": [],
   "source": [
    "##Подход 2: логистическая регрессия\n",
    "## №2\n",
    "\n",
    "import pandas\n",
    "import numpy as np\n",
    "import time\n",
    "import datetime\n",
    "from sklearn.model_selection import KFold\n",
    "from sklearn.model_selection import cross_val_score\n",
    "from sklearn.linear_model import LogisticRegression\n",
    "\n",
    "features = pandas.read_csv('./features.csv', index_col='match_id')\n",
    "gameFeature = features.iloc[:,:102]\n",
    "columnList = list(gameFeature.columns.values.tolist())\n",
    "\n",
    "columnDelete = ['lobby_type', 'r1_hero','r2_hero','r3_hero','r4_hero','r5_hero','d1_hero','d2_hero','d3_hero',\n",
    "'d4_hero','d5_hero']\n",
    "for item in columnDelete:\n",
    "    columnList.remove(item)\n",
    "\n",
    "dataFrameSlice = gameFeature.loc[:, gameFeature.columns.isin(columnList)]\n",
    "\n",
    "X_data = dataFrameSlice.fillna(0)\n",
    "y_data = features.iloc[:,103]\n",
    "\n",
    "kf = KFold(n_splits=5, shuffle=True)\n",
    "\n",
    "start_time = datetime.datetime.now()\n",
    "lgr = LogisticRegression(penalty='l2',C=1)\n",
    "vals = cross_val_score(lgr, X=X_data, y=y_data, cv=kf, scoring='roc_auc')\n",
    "print ('Time elapsed:', datetime.datetime.now() - start_time)\n",
    "print('Точность:',scoreCross)"
   ]
  },
  {
   "cell_type": "code",
   "execution_count": null,
   "metadata": {},
   "outputs": [],
   "source": [
    "##Подход 2: логистическая регрессия\n",
    "## №3\n",
    "\n",
    "import pandas\n",
    "import numpy as np\n",
    "import time\n",
    "import datetime\n",
    "from sklearn.model_selection import KFold\n",
    "from sklearn.model_selection import cross_val_score\n",
    "from sklearn.linear_model import LogisticRegression\n",
    "\n",
    "features = pandas.read_csv('./features.csv', index_col='match_id')\n",
    "gameFeature = features.iloc[:,:102]\n",
    "\n",
    "heroIndex = []\n",
    "\n",
    "heroes = ['r1_hero','r2_hero','r3_hero','r4_hero','r5_hero','d1_hero','d2_hero','d3_hero',\n",
    "'d4_hero','d5_hero']\n",
    "for name in heroes:\n",
    "    indexes = pandas.unique(gameFeature[name])\n",
    "    heroIndex.append(indexes)\n",
    "\n",
    "gameHeros = np.unique(heroIndex)\n",
    "print(gameHeros.size)"
   ]
  },
  {
   "cell_type": "code",
   "execution_count": null,
   "metadata": {},
   "outputs": [],
   "source": [
    "##Подход 2: логистическая регрессия\n",
    "## №4,5\n",
    "\n",
    "import pandas\n",
    "import numpy as np\n",
    "import time\n",
    "import datetime\n",
    "from sklearn.model_selection import KFold\n",
    "from sklearn.model_selection import cross_val_score\n",
    "from sklearn.linear_model import LogisticRegression\n",
    "\n",
    "features = pandas.read_csv('./features.csv', index_col='match_id')\n",
    "gameFeature = features.iloc[:,:102]\n",
    "\n",
    "heroIndex = []\n",
    "\n",
    "heroes = ['r1_hero','r2_hero','r3_hero','r4_hero','r5_hero','d1_hero','d2_hero','d3_hero',\n",
    "'d4_hero','d5_hero']\n",
    "for name in heroes:\n",
    "    indexes = pandas.unique(gameFeature[name])\n",
    "    heroIndex.append(indexes)\n",
    "\n",
    "gameHeros = np.unique(heroIndex)\n",
    "print('Количество героев:')\n",
    "print(gameHeros.size)\n",
    "\n",
    "X_pick = np.zeros((gameFeature.shape[0], heroCount))\n",
    "for i, match_id in enumerate(gameFeature.index):\n",
    "    for p in np.arange(5):\n",
    "        r_hero = 'r%d_hero' % (p+1)\n",
    "        d_hero = 'd%d_hero' % (p+1)\n",
    "        r_index = gameFeature.columns.get_loc(r_hero)       \n",
    "        d_index = gameFeature.columns.get_loc(d_hero)\n",
    "        if (gameFeature.iloc[i, r_index]-1 <= heroCount-1):             \n",
    "            X_pick[i, gameFeature.iloc[i, r_index]-1] = 1\n",
    "        if (gameFeature.iloc[i, d_index]-1 <= heroCount-1):        \n",
    "            X_pick[i, gameFeature.iloc[i, d_index]-1] = -1\n",
    "\n",
    "\n",
    "pickData = pandas.DataFrame(data=X_pick[0:,0:],index=[match_id for i, match_id in enumerate(gameFeature.index)], columns=['h_'+str(i) for i in range(X_pick.shape[1])] )\n",
    "\n",
    "columnList = list(gameFeature.columns.values.tolist())\n",
    "heroes.append('lobby_type')\n",
    "for item in heroes:\n",
    "   columnList.remove(item)\n",
    "\n",
    "dataFrameSlice = gameFeature.loc[:, gameFeature.columns.isin(columnList)]\n",
    "result = dataFrameSlice.join(pickData)\n",
    "X_data = result.fillna(0)\n",
    "\n",
    "kf = KFold(n_splits=5, shuffle=True)\n",
    "start_time = datetime.datetime.now()\n",
    "lgr = LogisticRegression(penalty='l2',C=1)\n",
    "vals = cross_val_score(lgr, X=X_data, y=y_data, cv=kf, scoring='roc_auc')\n",
    "print ('Time elapsed:', datetime.datetime.now() - start_time)\n",
    "scoreCross = np.mean(vals)\n",
    "print('Точность:',scoreCross)\n",
    "\n",
    "\n"
   ]
  },
  {
   "cell_type": "code",
   "execution_count": 2,
   "metadata": {
    "tags": [
     "outputPrepend"
    ]
   },
   "outputs": [
    {
     "output_type": "stream",
     "name": "stdout",
     "text": "1\n1\n1\n1\n0\n0\n0\n1\n0\n1\n1\n0\n1\n0\n1\n1\n1\n1\n1\n1\n1\n1\n0\n1\n1\n1\n1\n0\n0\n1\n0\n1\n0\n1\n1\n1\n0\n0\n0\n0\n0\n1\n0\n0\n0\n0\n1\n0\n1\n0\n0\n1\n0\n0\n1\n1\n0\n0\n1\n1\n1\n1\n1\n1\n0\n0\n1\n1\n1\n0\n1\n0\n0\n1\n1\n0\n1\n0\n1\n1\n1\n1\n0\n1\n0\n0\n0\n1\n1\n0\n0\n1\n0\n1\n0\n1\n0\n0\n0\n0\n1\n1\n0\n1\n0\n1\n1\n1\n1\n0\n1\n1\n0\n0\n1\n1\n0\n1\n0\n0\n1\n1\n1\n0\n1\n1\n0\n0\n1\n1\n1\n1\n1\n1\n0\n0\n0\n1\n0\n0\n0\n1\n0\n1\n1\n1\n1\n1\n1\n1\n1\n1\n1\n1\n1\n1\n1\n0\n0\n0\n1\n0\n0\n1\n1\n1\n0\n0\n1\n0\n0\n1\n1\n0\n0\n0\n1\n1\n1\n0\n1\n0\n1\n0\n1\n0\n0\n0\n0\n0\n0\n1\n1\n0\n0\n1\n0\n1\n1\n0\n1\n1\n0\n0\n1\n1\n1\n1\n1\n1\n1\n1\n1\n1\n0\n1\n1\n1\n1\n1\n1\n1\n1\n1\n0\n0\n1\n0\n1\n0\n0\n0\n0\n0\n0\n0\n0\n0\n0\n0\n1\n1\n0\n0\n0\n0\n1\n0\n0\n1\n0\n1\n1\n0\n1\n0\n1\n1\n1\n1\n1\n1\n1\n1\n0\n1\n1\n0\n0\n0\n0\n0\n1\n1\n0\n1\n1\n0\n0\n1\n0\n1\n0\n0\n0\n0\n1\n1\n1\n0\n0\n0\n0\n0\n1\n1\n1\n0\n0\n1\n0\n1\n0\n1\n0\n1\n0\n1\n0\n1\n0\n1\n0\n0\n0\n0\n0\n0\n1\n0\n1\n0\n1\n1\n0\n1\n1\n0\n0\n1\n0\n1\n0\n0\n0\n1\n1\n0\n0\n0\n0\n1\n1\n1\n1\n0\n0\n1\n0\n1\n1\n0\n0\n1\n1\n0\n1\n1\n1\n1\n1\n0\n0\n1\n0\n0\n1\n1\n1\n1\n0\n0\n0\n0\n1\n1\n1\n0\n1\n0\n1\n0\n1\n0\n0\n1\n1\n1\n1\n1\n1\n1\n0\n1\n1\n1\n0\n1\n1\n0\n0\n1\n1\n1\n1\n0\n0\n1\n0\n0\n1\n1\n1\n0\n1\n1\n0\n0\n0\n1\n0\n0\n1\n1\n0\n1\n1\n1\n1\n1\n1\n0\n1\n0\n0\n0\n0\n1\n0\n1\n0\n1\n1\n0\n1\n1\n1\n0\n1\n0\n1\n0\n1\n1\n1\n0\n1\n0\n1\n0\n1\n1\n0\n1\n1\n1\n1\n0\n1\n0\n1\n1\n0\n1\n0\n1\n1\n1\n0\n1\n1\n1\n0\n1\n1\n1\n1\n0\n0\n0\n1\n1\n1\n1\n1\n0\n0\n0\n1\n1\n0\n1\n0\n1\n0\n1\n0\n1\n0\n1\n0\n1\n0\n0\n1\n0\n0\n1\n0\n1\n0\n1\n0\n1\n1\n1\n0\n1\n1\n0\n0\n1\n0\n0\n1\n0\n0\n1\n0\n0\n1\n0\n1\n1\n1\n0\n1\n1\n0\n1\n0\n0\n1\n1\n1\n1\n1\n1\n1\n1\n0\n1\n1\n0\n1\n1\n1\n0\n0\n0\n1\n1\n1\n0\n1\n1\n0\n1\n0\n0\n0\n1\n0\n1\n0\n1\n0\n0\n1\n0\n1\n0\n0\n1\n1\n0\n1\n1\n1\n1\n1\n1\n1\n1\n1\n0\n0\n0\n0\n0\n1\n1\n0\n0\n1\n0\n1\n0\n1\n1\n0\n1\n1\n0\n1\n0\n1\n1\n1\n0\n1\n0\n0\n0\n0\n0\n1\n1\n1\n0\n0\n1\n0\n1\n0\n1\n1\n0\n1\n1\n0\n0\n0\n1\n0\n0\n0\n0\n1\n0\n0\n0\n1\n1\n0\n1\n1\n0\n1\n0\n1\n0\n0\n0\n0\n0\n1\n1\n1\n0\n1\n0\n0\n0\n1\n1\n1\n0\n1\n1\n1\n1\n1\n1\n0\n1\n1\n1\n0\n1\n0\n0\n1\n1\n0\n1\n1\n0\n1\n0\n1\n0\n1\n0\n0\n0\n1\n1\n1\n0\n0\n1\n0\n1\n1\n0\n1\n1\n0\n1\n1\n0\n1\n0\n0\n1\n1\n0\n1\n1\n1\n0\n0\n1\n1\n0\n1\n1\n0\n1\n0\n1\n0\n1\n0\n0\n1\n1\n1\n1\n1\n1\n0\n0\n1\n0\n0\n0\n1\n1\n1\n1\n1\n0\n0\n1\n0\n1\n1\n0\n1\n1\n0\n1\n1\n0\n0\n1\n0\n1\n0\n1\n1\n0\n1\n0\n1\n0\n0\n1\n1\n0\n1\n0\n0\n1\n0\n1\n0\n1\n1\n1\n1\n0\n1\n1\n1\n1\n0\n0\n0\n1\n0\n0\n0\n0\n1\n1\n0\n0\n0\n0\n1\n0\n1\n0\n1\n0\n0\n1\n1\n0\n0\n0\n0\n0\n0\n1\n0\n0\n1\n1\n1\n1\n0\n0\n0\n0\n1\n1\n0\n0\n1\n0\n1\n1\n0\n0\n1\n1\n1\n0\n1\n1\n1\n1\n1\n0\n1\n1\n1\n1\n0\n1\n1\n1\n0\n1\n1\n1\n1\n1\n1\n1\n0\n1\n1\n1\n1\n1\n1\n0\n1\n1\n0\n0\n1\n1\n1\n1\n1\n1\n0\n0\n1\n0\n1\n0\n0\n1\n1\n1\n0\n0\n0\n0\n1\n1\n0\n0\n0\n1\n1\n0\n1\n0\n1\n0\n0\n1\n1\n1\n1\n1\n1\n1\n1\n0\n1\n1\n0\n1\n0\n1\n0\n1\n1\n1\n1\n0\n1\n1\n0\n0\n0\n1\n1\n0\n1\n1\n1\n1\n0\n1\n0\n0\n0\n1\n1\n0\n1\n0\n1\n1\n0\n0\n0\n0\n1\n0\n0\n0\n1\n0\n1\n0\n1\n0\n0\n0\n1\n1\n0\n1\n1\n1\n0\n1\n1\n1\n0\n1\n0\n1\n0\n0\n0\n0\n1\n0\n0\n1\n1\n1\n0\n1\n0\n1\n0\n1\n0\n0\n1\n0\n1\n1\n1\n0\n0\n1\n1\n1\n1\n1\n1\n1\n1\n1\n1\n1\n1\n1\n1\n0\n1\n1\n1\n1\n1\n0\n0\n1\n0\n1\n1\n1\n1\n1\n1\n1\n1\n0\n0\n0\n0\n1\n0\n0\n0\n0\n1\n0\n1\n1\n0\n0\n0\n0\n1\n0\n0\n0\n1\n1\n1\n1\n1\n1\n1\n0\n1\n0\n1\n1\n0\n0\n1\n1\n0\n0\n0\n1\n0\n0\n1\n1\n1\n0\n1\n0\n1\n1\n0\n1\n1\n1\n0\n0\n1\n0\n1\n1\n1\n1\n1\n1\n0\n1\n1\n0\n1\n1\n0\n1\n1\n1\n1\n1\n1\n1\n0\n0\n1\n0\n0\n1\n1\n1\n0\n1\n1\n1\n0\n1\n0\n1\n0\n0\n1\n0\n1\n1\n1\n1\n1\n0\n0\n0\n1\n0\n1\n1\n0\n1\n0\n0\n1\n1\n0\n1\n0\n0\n0\n1\n1\n1\n0\n0\n1\n1\n0\n0\n0\n1\n1\n0\n1\n1\n0\n1\n1\n1\n1\n1\n0\n0\n1\n0\n0\n0\n0\n0\n1\n0\n1\n0\n0\n1\n0\n1\n1\n0\n0\n1\n1\n1\n1\n1\n0\n1\n1\n1\n1\n1\n1\n1\n0\n0\n0\n0\n1\n0\n0\n0\n0\n1\n0\n0\n1\n0\n1\n1\n1\n1\n0\n1\n1\n1\n0\n0\n0\n1\n1\n0\n0\n0\n0\n1\n1\n1\n1\n1\n0\n1\n1\n1\n1\n0\n1\n0\n1\n1\n1\n0\n0\n0\n1\n0\n0\n0\n0\n1\n0\n0\n1\n1\n1\n0\n1\n1\n0\n1\n0\n0\n0\n0\n1\n0\n1\n1\n0\n1\n1\n0\n1\n1\n0\n1\n0\n1\n1\n0\n0\n0\n1\n0\n1\n1\n1\n1\n1\n0\n1\n0\n0\n1\n1\n0\n0\n0\n1\n1\n0\n1\n1\n1\n1\n1\n1\n1\n1\n1\n0\n1\n1\n0\n1\n0\n0\n1\n1\n0\n1\n0\n0\n1\n0\n0\n0\n1\n1\n0\n1\n0\n1\n0\n1\n1\n0\n1\n0\n1\n0\n1\n0\n1\n1\n0\n0\n1\n1\n0\n1\n0\n1\n1\n1\n1\n1\n1\n1\n1\n0\n0\n1\n0\n1\n0\n0\n1\n1\n0\n1\n0\n0\n0\n1\n0\n1\n1\n1\n1\n0\n0\n1\n0\n1\n0\n1\n1\n0\n1\n1\n0\n0\n0\n1\n1\n0\n1\n0\n1\n0\n0\n1\n0\n0\n1\n0\n1\n1\n0\n1\n1\n1\n1\n1\n0\n1\n0\n1\n0\n1\n0\n1\n0\n0\n1\n0\n0\n0\n0\n1\n1\n1\n1\n1\n1\n0\n1\n1\n1\n1\n0\n0\n1\n1\n0\n0\n0\n0\n0\n1\n0\n1\n0\n0\n0\n1\n0\n0\n1\n0\n0\n1\n1\n1\n0\n1\n0\n0\n1\n0\n0\n0\n0\n1\n0\n0\n1\n0\n0\n0\n1\n1\n1\n0\n0\n1\n0\n1\n1\n1\n1\n1\n1\n0\n1\n1\n1\n0\n1\n0\n1\n0\n1\n1\n0\n0\n1\n0\n0\n0\n0\n1\n1\n0\n0\n0\n1\n0\n1\n0\n1\n1\n1\n0\n1\n1\n1\n1\n1\n1\n1\n1\n1\n1\n1\n0\n1\n1\n1\n0\n1\n1\n1\n0\n1\n0\n0\n1\n1\n1\n0\n1\n0\n0\n1\n1\n0\n1\n1\n0\n1\n1\n0\n1\n1\n1\n1\n0\n0\n1\n1\n1\n0\n1\n1\n1\n0\n0\n1\n1\n1\n1\n0\n0\n0\n0\n0\n0\n0\n0\n1\n1\n1\n1\n0\n1\n1\n1\n1\n0\n0\n1\n1\n0\n1\n0\n1\n1\n1\n1\n0\n1\n1\n0\n1\n0\n1\n1\n1\n1\n1\n0\n0\n1\n0\n0\n0\n1\n1\n0\n1\n0\n0\n1\n1\n1\n0\n0\n1\n0\n0\n1\n1\n0\n1\n0\n0\n0\n1\n0\n1\n1\n0\n1\n0\n1\n1\n0\n0\n0\n0\n0\n1\n0\n0\n1\n1\n0\n1\n1\n0\n0\n1\n0\n1\n0\n1\n0\n1\n0\n1\n1\n0\n0\n0\n0\n0\n1\n1\n0\n1\n0\n1\n1\n0\n1\n0\n1\n1\n1\n0\n0\n0\n0\n1\n0\n1\n1\n1\n0\n1\n1\n1\n1\n1\n1\n1\n1\n0\n0\n1\n0\n0\n0\n1\n0\n1\n1\n0\n0\n1\n0\n0\n0\n0\n0\n0\n1\n1\n1\n0\n0\n0\n1\n1\n1\n0\n1\n0\n1\n0\n0\n1\n0\n1\n0\n0\n1\n1\n0\n0\n1\n0\n1\n1\n1\n1\n0\n0\n0\n0\n1\n0\n0\n1\n1\n0\n1\n1\n0\n0\n0\n1\n1\n1\n0\n0\n1\n0\n1\n0\n1\n0\n1\n1\n1\n0\n0\n1\n0\n1\n1\n1\n0\n0\n1\n0\n0\n1\n1\n0\n0\n0\n0\n1\n1\n1\n0\n0\n1\n1\n0\n1\n1\n1\n0\n0\n0\n1\n1\n1\n0\n0\n1\n0\n0\n0\n0\n1\n1\n1\n1\n1\n1\n1\n1\n1\n1\n1\n0\n1\n1\n1\n1\n1\n0\n1\n0\n0\n1\n1\n1\n1\n0\n0\n1\n0\n0\n0\n1\n0\n1\n0\n1\n0\n1\n1\n1\n0\n1\n1\n0\n1\n1\n0\n1\n0\n1\n1\n1\n1\n1\n1\n0\n0\n0\n0\n1\n1\n1\n0\n1\n0\n1\n0\n0\n0\n1\n1\n0\n1\n0\n0\n0\n1\n1\n1\n0\n1\n0\n1\n1\n0\n0\n0\n1\n0\n0\n1\n1\n1\n0\n0\n1\n1\n1\n1\n1\n0\n0\n0\n0\n1\n0\n0\n0\n0\n1\n0\n0\n0\n1\n1\n0\n1\n0\n1\n1\n1\n1\n1\n1\n1\n0\n1\n1\n0\n0\n1\n0\n0\n1\n1\n1\n1\n0\n0\n0\n0\n1\n0\n1\n1\n1\n0\n0\n0\n1\n0\n1\n0\n1\n1\n0\n0\n1\n0\n0\n1\n0\n0\n1\n0\n0\n1\n1\n0\n0\n1\n1\n1\n0\n1\n1\n0\n0\n1\n1\n1\n0\n1\n0\n0\n0\n1\n1\n0\n0\n1\n0\n1\n0\n1\n1\n1\n0\n1\n1\n1\n0\n1\n1\n1\n1\n0\n1\n0\n0\n1\n1\n0\n1\n0\n1\n0\n0\n0\n0\n0\n1\n0\n1\n0\n1\n1\n1\n1\n1\n1\n1\n0\n0\n1\n1\n1\n1\n0\n0\n1\n1\n0\n1\n0\n1\n1\n0\n1\n0\n1\n1\n0\n1\n1\n0\n1\n0\n0\n0\n0\n1\n0\n0\n1\n1\n0\n1\n1\n1\n1\n0\n1\n1\n1\n0\n1\n0\n1\n1\n1\n0\n0\n1\n0\n0\n1\n1\n1\n0\n1\n1\n0\n0\n1\n0\n1\n1\n0\n1\n0\n1\n0\n0\n0\n1\n1\n1\n1\n0\n0\n0\n0\n1\n1\n0\n1\n1\n0\n1\n1\n0\n1\n0\n1\n0\n1\n1\n0\n0\n1\n1\n1\n1\n1\n0\n1\n1\n1\n1\n1\n0\n1\n1\n1\n1\n1\n1\n1\n0\n1\n0\n1\n0\n1\n1\n0\n1\n1\n0\n0\n0\n0\n1\n0\n0\n1\n1\n1\n1\n0\n1\n0\n0\n1\n1\n0\n1\n0\n1\n0\n0\n0\n1\n0\n1\n1\n0\n1\n0\n0\n1\n1\n0\n0\n0\n0\n1\n0\n0\n1\n0\n0\n1\n1\n0\n0\n1\n0\n1\n0\n1\n1\n1\n0\n0\n1\n0\n1\n1\n0\n0\n0\n1\n0\n0\n0\n0\n0\n0\n1\n0\n0\n1\n0\n0\n0\n1\n1\n1\n0\n1\n1\n0\n0\n1\n1\n1\n1\n0\n0\n0\n0\n1\n1\n0\n0\n1\n1\n0\n0\n0\n1\n0\n0\n1\n1\n1\n0\n1\n1\n1\n1\n1\n0\n1\n1\n1\n0\n1\n0\n1\n1\n1\n1\n1\n1\n0\n0\n0\n1\n0\n0\n0\n0\n1\n0\n0\n0\n0\n1\n1\n1\n1\n1\n1\n1\n0\n0\n1\n0\n0\n1\n0\n0\n1\n0\n1\n0\n1\n0\n1\n1\n0\n0\n1\n1\n1\n1\n1\n1\n0\n1\n0\n1\n1\n0\n0\n1\n1\n1\n1\n1\n1\n0\n0\n1\n0\n0\n0\n0\n1\n0\n1\n0\n0\n1\n1\n0\n1\n1\n1\n1\n0\n0\n0\n0\n0\n0\n1\n0\n1\n0\n0\n0\n0\n1\n1\n0\n1\n1\n0\n1\n0\n0\n1\n1\n0\n1\n0\n1\n0\n0\n0\n1\n0\n1\n1\n0\n1\n1\n1\n0\n1\n0\n0\n1\n0\n1\n1\n1\n1\n1\n1\n1\n1\n0\n1\n0\n0\n0\n1\n1\n1\n0\n1\n1\n1\n1\n0\n1\n1\n0\n0\n0\n1\n1\n1\n1\n1\n1\n0\n0\n0\n1\n0\n0\n1\n1\n0\n0\n1\n1\n1\n1\n1\n1\n1\n1\n0\n1\n1\n1\n0\n0\n0\n1\n1\n0\n0\n0\n1\n1\n1\n0\n0\n1\n1\n1\n1\n0\n1\n0\n1\n0\n0\n0\n1\n1\n0\n1\n0\n1\n1\n0\n1\n0\n0\n1\n0\n0\n0\n0\n1\n0\n0\n1\n1\n0\n0\n1\n1\n0\n0\n1\n1\n1\n1\n1\n1\n1\n1\n0\n1\n1\n0\n1\n1\n1\n1\n0\n1\n0\n1\n0\n1\n1\n0\n1\n0\n1\n0\n1\n0\n1\n0\n0\n1\n0\n0\n1\n1\n1\n1\n0\n1\n1\n1\n1\n0\n0\n1\n0\n0\n1\n0\n0\n0\n1\n1\n1\n0\n1\n0\n0\n1\n0\n1\n0\n0\n0\n0\n1\n0\n0\n0\n1\n1\n0\n1\n0\n0\n1\n0\n0\n0\n1\n1\n1\n1\n0\n0\n1\n0\n0\n0\n1\n1\n1\n0\n1\n0\n1\n1\n0\n1\n1\n1\n1\n1\n1\n1\n0\n0\n0\n0\n0\n0\n0\n0\n1\n1\n0\n1\n1\n0\n1\n0\n0\n1\n1\n1\n1\n1\n1\n0\n1\n1\n0\n0\n1\n1\n0\n0\n1\n1\n0\n1\n1\n1\n0\n0\n0\n1\n1\n1\n1\n1\n1\n1\n1\n0\n1\n1\n0\n0\n0\n1\n1\n0\n1\n1\n1\n0\n0\n0\n1\n1\n0\n0\n1\n1\n1\n1\n0\n0\n0\n0\n0\n1\n1\n0\n1\n0\n0\n0\n1\n1\n0\n1\n0\n0\n0\n1\n0\n1\n1\n1\n1\n0\n1\n0\n1\n1\n1\n1\n0\n1\n0\n1\n0\n0\n0\n1\n1\n0\n1\n1\n0\n0\n1\n0\n1\n0\n0\n0\n0\n1\n1\n0\n0\n1\n0\n1\n0\n1\n0\n1\n0\n0\n1\n1\n1\n0\n1\n0\n1\n1\n1\n1\n0\n1\n1\n1\n0\n1\n1\n1\n0\n1\n0\n0\n0\n0\n1\n1\n0\n0\n1\n1\n1\n1\n0\n0\n0\n1\n1\n0\n0\n0\n1\n1\n1\n1\n1\n1\n0\n1\n0\n0\n1\n1\n0\n1\n0\n0\n1\n1\n1\n1\n0\n0\n1\n0\n0\n1\n1\n0\n0\n1\n1\n1\n0\n0\n0\n0\n0\n0\n1\n1\n0\n1\n0\n1\n1\n1\n0\n1\n1\n1\n1\n1\n0\n1\n1\n1\n1\n0\n0\n0\n1\n0\n0\n1\n0\n1\n1\n0\n1\n1\n1\n0\n0\n0\n1\n0\n1\n0\n1\n1\n0\n1\n1\n0\n1\n1\n1\n1\n0\n1\n1\n1\n0\n0\n1\n1\n0\n0\n0\n0\n1\n1\n1\n0\n1\n0\n0\n0\n1\n0\n1\n1\n0\n1\n1\n1\n0\n0\n1\n1\n0\n1\n1\n0\n0\n1\n1\n1\n0\n1\n0\n1\n0\n0\n1\n1\n1\n0\n0\n1\n1\n1\n1\n1\n0\n1\n1\n0\n1\n1\n1\n0\n0\n1\n0\n1\n1\n0\n0\n1\n1\n1\n1\n0\n0\n1\n1\n0\n1\n1\n1\n0\n0\n0\n0\n1\n1\n1\n1\n0\n0\n1\n1\n0\n0\n0\n1\n1\n0\n1\n0\n0\n0\n0\n0\n1\n0\n0\n0\n1\n1\n1\n0\n0\n0\n0\n1\n0\n1\n0\n1\n1\n1\n1\n0\n0\n1\n0\n1\n0\n0\n0\n1\n0\n1\n0\n1\n1\n1\n0\n0\n0\n0\n1\n0\n1\n0\n0\n0\n1\n0\n0\n0\n1\n1\n0\n1\n0\n1\n1\n1\n1\n1\n1\n0\n0\n1\n1\n1\n1\n1\n0\n1\n1\n0\n1\n1\n1\n0\n0\n0\n1\n0\n1\n0\n1\n1\n0\n1\n1\n1\n0\n1\n0\n0\n1\n0\n1\n1\n1\n1\n1\n0\n0\n1\n0\n0\n0\n1\n0\n1\n1\n1\n1\n0\n1\n0\n0\n0\n1\n0\n0\n1\n0\n0\n1\n1\n1\n0\n1\n1\n0\n0\n1\n1\n1\n1\n1\n1\n0\n1\n1\n1\n1\n1\n0\n0\n1\n1\n1\n0\n1\n1\n1\n1\n0\n0\n1\n1\n1\n0\n0\n1\n0\n0\n1\n0\n0\n0\n0\n0\n1\n0\n1\n0\n1\n0\n1\n1\n0\n0\n0\n0\n0\n0\n0\n1\n0\n0\n1\n1\n1\n1\n0\n0\n0\n0\n1\n1\n0\n1\n0\n1\n1\n0\n1\n0\n0\n1\n0\n0\n1\n1\n1\n0\n1\n0\n1\n1\n1\n0\n1\n1\n0\n0\n0\n1\n0\n1\n1\n0\n0\n0\n1\n0\n1\n0\n0\n0\n0\n1\n1\n0\n1\n0\n1\n0\n0\n0\n0\n0\n1\n0\n1\n1\n1\n0\n1\n1\n0\n1\n1\n0\n0\n0\n1\n0\n1\n1\n0\n1\n1\n1\n0\n0\n1\n0\n0\n1\n1\n0\n1\n1\n1\n1\n1\n0\n0\n1\n0\n1\n1\n0\n0\n1\n0\n0\n1\n0\n1\n0\n1\n1\n0\n0\n1\n1\n1\n0\n1\n1\n0\n1\n0\n1\n0\n0\n0\n1\n1\n1\n0\n1\n1\n0\n1\n1\n0\n0\n1\n1\n1\n1\n1\n0\n1\n1\n1\n1\n0\n0\n1\n1\n0\n1\n0\n0\n1\n1\n1\n1\n1\n1\n0\n0\n1\n1\n0\n0\n0\n1\n0\n0\n1\n0\n1\n1\n1\n1\n1\n1\n1\n0\n0\n1\n0\n1\n1\n1\n1\n1\n1\n1\n1\n0\n1\n1\n0\n0\n0\n0\n1\n0\n0\n1\n1\n0\n0\n1\n1\n1\n1\n0\n1\n0\n0\n0\n1\n1\n0\n1\n0\n1\n1\n0\n0\n0\n0\n1\n1\n0\n1\n1\n0\n0\n0\n1\n0\n1\n1\n0\n1\n0\n1\n0\n1\n1\n1\n0\n1\n1\n1\n0\n1\n1\n1\n0\n1\n0\n0\n1\n1\n0\n1\n0\n1\n0\n1\n0\n1\n0\n1\n1\n1\n0\n0\n1\n1\n0\n1\n0\n1\n0\n0\n1\n0\n0\n1\n1\n0\n0\n1\n1\n1\n1\n0\n0\n1\n0\n0\n1\n1\n0\n1\n0\n1\n1\n1\n0\n0\n0\n1\n0\n0\n0\n0\n0\n1\n0\n1\n1\n0\n0\n1\n1\n1\n0\n1\n1\n1\n1\n0\n0\n0\n0\n1\n0\n1\n0\n1\n0\n0\n0\n0\n0\n1\n1\n1\n1\n0\n1\n1\n1\n1\n1\n1\n0\n1\n0\n0\n0\n0\n1\n1\n0\n1\n0\n1\n0\n1\n1\n0\n1\n1\n0\n0\n1\n0\n1\n1\n1\n0\n1\n0\n0\n0\n0\n1\n1\n1\n1\n1\n0\n1\n0\n0\n1\n0\n1\n0\n1\n1\n0\n0\n1\n0\n1\n1\n1\n1\n0\n1\n0\n0\n0\n0\n0\n0\n0\n1\n0\n1\n1\n1\n1\n1\n1\n1\n1\n0\n1\n1\n1\n0\n0\n0\n0\n0\n1\n1\n1\n1\n1\n1\n1\n1\n0\n1\n0\n1\n0\n0\n0\n0\n1\n0\n1\n0\n0\n1\n1\n0\n1\n1\n0\n0\n0\n0\n1\n1\n0\n1\n1\n1\n1\n0\n0\n1\n1\n1\n1\n1\n1\n1\n1\n0\n0\n0\n1\n0\n0\n1\n0\n1\n1\n0\n0\n0\n0\n0\n1\n1\n0\n0\n0\n0\n0\n1\n1\n1\n1\n0\n1\n0\n0\n0\n1\n1\n0\n0\n1\n0\n0\n1\n0\n1\n0\n0\n0\n1\n1\n0\n0\n1\n0\n1\n0\n0\n1\n1\n1\n0\n1\n1\n0\n1\n0\n0\n0\n0\n1\n0\n1\n0\n1\n1\n1\n0\n1\n1\n1\n0\n0\n0\n1\n0\n1\n1\n1\n1\n1\n1\n1\n1\n0\n1\n1\n0\n0\n1\n0\n1\n1\n1\n1\n1\n1\n0\n1\n1\n1\n1\n0\n1\n0\n1\n0\n0\n0\n0\n1\n1\n1\n1\n1\n0\n0\n0\n0\n1\n0\n0\n1\n1\n0\n1\n0\n1\n1\n1\n1\n1\n1\n0\n1\n1\n1\n0\n1\n1\n1\n0\n1\n0\n1\n0\n0\n0\n0\n0\n0\n0\n1\n1\n1\n0\n0\n0\n1\n1\n0\n1\n1\n1\n1\n1\n0\n0\n1\n1\n1\n1\n1\n1\n0\n1\n0\n1\n0\n1\n0\n1\n0\n0\n1\n0\n0\n1\n1\n1\n0\n1\n0\n1\n0\n0\n1\n1\n1\n1\n1\n1\n0\n1\n1\n1\n1\n0\n1\n0\n0\n0\n0\n0\n0\n0\n1\n1\n1\n1\n0\n0\n1\n1\n0\n0\n0\n0\n1\n0\n1\n0\n0\n1\n0\n1\n0\n0\n1\n0\n1\n0\n0\n1\n1\n0\n0\n0\n1\n0\n1\n1\n1\n1\n0\n1\n1\n1\n1\n1\n1\n0\n0\n1\n1\n1\n0\n1\n1\n1\n0\n1\n1\n0\n1\n0\n1\n1\n1\n0\n1\n1\n0\n0\n1\n0\n0\n0\n1\n0\n1\n1\n1\n0\n0\n1\n0\n0\n0\n1\n1\n0\n1\n0\n1\n1\n1\n0\n0\n0\n1\n1\n0\n0\n1\n0\n1\n0\n0\n0\n1\n0\n1\n1\n0\n0\n1\n1\n1\n1\n0\n1\n0\n0\n1\n1\n0\n0\n1\n0\n1\n1\n0\n1\n0\n0\n1\n1\n1\n1\n0\n0\n0\n1\n1\n0\n0\n0\n0\n0\n0\n0\n0\n0\n1\n1\n1\n1\n1\n1\n1\n0\n1\n0\n0\n1\n1\n0\n1\n0\n1\n1\n1\n1\n1\n1\n1\n1\n0\n1\n0\n1\n0\n1\n1\n0\n1\n0\n1\n0\n1\n0\n1\n0\n0\n0\n1\n1\n1\n1\n0\n1\n1\n0\n1\n0\n0\n1\n1\n1\n1\n0\n1\n1\n1\n0\n1\n1\n1\n0\n1\n0\n0\n1\n0\n1\n1\n0\n1\n1\n1\n0\n1\n1\n0\n0\n1\n1\n0\n0\n0\n1\n1\n1\n0\n1\n0\n1\n0\n0\n1\n1\n1\n1\n0\n1\n1\n0\n1\n0\n0\n1\n0\n1\n1\n1\n1\n1\n0\n0\n0\n0\n0\n1\n1\n0\n1\n0\n1\n1\n0\n1\n1\n0\n0\n0\n1\n1\n1\n0\n0\n0\n1\n1\n1\n0\n1\n0\n0\n1\n0\n1\n0\n0\n1\n1\n1\n0\n1\n0\n1\n0\n1\n1\n1\n0\n1\n1\n1\n1\n1\n0\n0\n0\n1\n1\n1\n1\n0\n1\n1\n1\n0\n1\n0\n1\n1\n1\n0\n1\n0\n0\n1\n1\n1\n1\n1\n0\n0\n1\n1\n1\n1\n1\n0\n0\n0\n1\n0\n1\n0\n0\n1\n0\n1\n1\n0\n1\n0\n1\n1\n1\n1\n1\n0\n0\n1\n1\n0\n1\n0\n0\n1\n1\n1\n0\n0\n1\n0\n1\n0\n0\n1\n0\n1\n0\n0\n0\n1\n0\n1\n1\n0\n1\n1\n1\n1\n0\n0\n0\n0\n0\n1\n1\n1\n1\n1\n0\n1\n1\n0\n1\n1\n1\n1\n0\n0\n0\n1\n0\n0\n1\n1\n0\n1\n0\n0\n1\n0\n1\n0\n0\n0\n0\n0\n1\n1\n0\n0\n1\n1\n1\n1\n1\n1\n1\n1\n1\n1\n1\n1\n1\n1\n0\n1\n1\n1\n1\n1\n1\n0\n1\n1\n0\n0\n0\n0\n0\n0\n1\n1\n0\n1\n0\n0\n0\n1\n0\n1\n1\n1\n0\n0\n0\n0\n1\n0\n1\n0\n0\n0\n1\n0\n0\n0\n0\n0\n1\n1\n1\n0\n1\n1\n1\n1\n1\n0\n0\n1\n1\n1\n0\n0\n0\n0\n0\n0\n1\n1\n1\n0\n0\n0\n1\n1\n1\n1\n1\n1\n0\n0\n1\n1\n1\n1\n0\n1\n0\n1\n0\n1\n1\n1\n1\n1\n1\n1\n0\n1\n1\n1\n1\n0\n1\n1\n1\n0\n1\n0\n1\n0\n0\n0\n0\n1\n1\n0\n1\n0\n1\n0\n1\n1\n1\n1\n1\n1\n1\n1\n0\n0\n1\n0\n1\n1\n1\n0\n1\n0\n0\n1\n1\n0\n1\n1\n0\n1\n1\n1\n0\n1\n0\n1\n1\n0\n1\n1\n1\n0\n1\n1\n1\n1\n1\n1\n0\n1\n1\n0\n0\n1\n0\n1\n0\n0\n1\n0\n1\n0\n1\n0\n1\n0\n0\n1\n1\n1\n1\n0\n0\n0\n1\n1\n0\n0\n1\n1\n1\n1\n0\n0\n1\n1\n1\n1\n0\n1\n0\n1\n1\n0\n1\n1\n1\n0\n1\n0\n1\n0\n1\n1\n1\n1\n0\n1\n0\n1\n1\n0\n1\n1\n1\n1\n0\n0\n0\n0\n1\n0\n1\n0\n1\n1\n1\n1\n1\n0\n0\n1\n0\n1\n1\n0\n1\n1\n0\n0\n0\n0\n1\n0\n0\n1\n1\n0\n0\n1\n0\n1\n0\n1\n1\n0\n0\n1\n1\n1\n1\n0\n0\n0\n1\n0\n1\n0\n1\n1\n1\n1\n0\n0\n0\n0\n1\n1\n1\n0\n0\n0\n1\n0\n0\n1\n1\n1\n1\n1\n0\n1\n1\n0\n1\n1\n0\n1\n1\n1\n1\n1\n1\n0\n1\n0\n1\n0\n1\n0\n1\n1\n1\n0\n0\n0\n0\n0\n1\n1\n0\n0\n1\n0\n1\n1\n0\n1\n0\n0\n1\n1\n0\n1\n1\n1\n1\n1\n0\n1\n0\n1\n1\n0\n1\n0\n1\n1\n0\n1\n0\n0\n0\n1\n1\n0\n1\n1\n1\n1\n1\n0\n1\n0\n0\n0\n0\n0\n0\n0\n0\n1\n1\n1\n0\n0\n0\n1\n0\n0\n1\n0\n1\n0\n1\n1\n0\n1\n1\n1\n0\n0\n1\n0\n0\n1\n1\n0\n1\n1\n0\n1\n0\n0\n0\n1\n0\n0\n0\n1\n0\n1\n1\n0\n1\n0\n1\n1\n0\n1\n0\n1\n1\n1\n1\n0\n1\n1\n1\n1\n1\n1\n0\n0\n1\n1\n0\n1\n1\n0\n0\n1\n0\n0\n0\n0\n1\n1\n0\n0\n0\n1\n1\n0\n0\n0\n1\n0\n0\n0\n1\n0\n0\n1\n1\n0\n1\n1\n1\n0\n0\n1\n0\n0\n0\n1\n1\n1\n1\n1\n0\n1\n0\n1\n1\n1\n1\n0\n1\n1\n1\n1\n0\n1\n1\n1\n0\n0\n0\n1\n0\n1\n0\n0\n1\n1\n0\n0\n0\n0\n1\n0\n1\n1\n1\n0\n0\n1\n1\n1\n0\n1\n1\n0\n1\n0\n1\n0\n0\n1\n1\n0\n0\n1\n1\n1\n0\n1\n0\n0\n0\n0\n1\n1\n1\n0\n1\n1\n1\n0\n0\n0\n1\n0\n1\n1\n1\n0\n0\n0\n1\n1\n1\n1\n0\n1\n0\n1\n1\n1\n1\n1\n1\n0\n1\n1\n1\n1\n1\n1\n0\n0\n1\n0\n1\n0\n1\n1\n1\n0\n1\n1\n1\n0\n1\n0\n0\n1\n1\n1\n0\n1\n0\n1\n1\n1\n1\n1\n1\n1\n0\n1\n0\n1\n0\n1\n0\n1\n1\n0\n0\n1\n0\n1\n1\n1\n0\n0\n0\n1\n0\n1\n1\n1\n0\n1\n0\n0\n0\n1\n0\n0\n1\n0\n1\n0\n0\n0\n0\n0\n0\n0\n0\n1\n1\n1\n0\n1\n0\n1\n0\n0\n1\n1\n0\n1\n0\n0\n1\n1\n1\n1\n1\n1\n0\n1\n0\n1\n1\n1\n1\n0\n0\n0\n0\n1\n1\n0\n1\n0\n0\n1\n0\n1\n0\n1\n1\n0\n1\n0\n1\n0\n1\n1\n1\n1\n1\n1\n1\n0\n1\n1\n1\n1\n0\n1\n1\n0\n1\n1\n1\n1\n1\n0\n1\n1\n0\n0\n0\n0\n1\n0\n0\n1\n0\n0\n1\n1\n1\n1\n0\n0\n0\n1\n1\n1\n0\n1\n1\n1\n1\n1\n0\n1\n1\n0\n1\n1\n1\n1\n1\n1\n1\n1\n0\n0\n1\n1\n0\n1\n0\n0\n1\n1\n1\n1\n0\n0\n1\n1\n1\n1\n0\n0\n0\n1\n1\n1\n1\n0\n0\n1\n1\n0\n1\n1\n1\n0\n1\n0\n1\n1\n1\n1\n1\n1\n1\n0\n0\n0\n0\n1\n1\n1\n1\n1\n0\n0\n0\n0\n1\n1\n0\n1\n1\n1\n1\n1\n0\n0\n1\n0\n1\n0\n0\n1\n1\n1\n0\n1\n0\n1\n0\n0\n1\n0\n0\n1\n1\n0\n1\n0\n0\n1\n0\n1\n0\n1\n1\n1\n1\n1\n0\n1\n1\n0\n0\n1\n0\n1\n1\n1\n0\n1\n1\n0\n1\n1\n0\n1\n0\n1\n1\n1\n1\n1\n1\n1\n1\n0\n1\n0\n1\n1\n1\n0\n0\n0\n1\n0\n1\n0\n1\n1\n1\n1\n1\n1\n0\n0\n1\n1\n0\n1\n0\n1\n1\n0\n0\n1\n1\n1\n1\n0\n0\n1\n0\n1\n1\n1\n1\n1\n0\n0\n0\n0\n0\n0\n1\n0\n0\n1\n1\n0\n0\n0\n1\n1\n0\n1\n0\n1\n0\n1\n1\n1\n0\n0\n1\n0\n0\n0\n1\n0\n1\n0\n1\n0\n1\n1\n0\n1\n1\n0\n1\n0\n1\n1\n0\n1\n1\n1\n1\n1\n1\n1\n1\n0\n1\n1\n1\n1\n1\n1\n1\n1\n1\n1\n1\n1\n1\n0\n0\n1\n1\n1\n1\n1\n1\n0\n0\n0\n1\n0\n1\n0\n0\n0\n1\n1\n1\n1\n0\n1\n1\n0\n0\n0\n0\n0\n0\n0\n0\n0\n0\n1\n1\n1\n1\n1\n1\n1\n0\n1\n1\n1\n0\n1\n0\n1\n0\n1\n1\n0\n0\n1\n0\n0\n0\n1\n1\n0\n0\n0\n0\n0\n1\n1\n1\n1\n1\n1\n1\n0\n0\n1\n1\n0\n1\n1\n1\n1\n0\n0\n1\n1\n1\n0\n0\n0\n1\n1\n1\n0\n1\n0\n1\n1\n1\n0\n0\n1\n1\n1\n0\n1\n1\n1\n1\n1\n1\n0\n0\n1\n1\n1\n1\n0\n1\n1\n1\n1\n1\n1\n1\n0\n1\n1\n1\n0\n0\n1\n1\n0\n0\n1\n1\n1\n1\n1\n0\n1\n0\n1\n1\n0\n1\n0\n1\n1\n0\n1\n1\n0\n0\n1\n0\n0\n0\n1\n0\n1\n1\n1\n1\n0\n1\n0\n1\n0\n1\n1\n1\n0\n0\n1\n0\n1\n1\n1\n1\n1\n1\n1\n0\n0\n1\n1\n0\n1\n1\n1\n1\n1\n0\n0\n1\n1\n0\n1\n1\n1\n0\n1\n1\n0\n1\n0\n1\n1\n1\n1\n0\n0\n0\n1\n0\n0\n0\n1\n0\n0\n0\n1\n1\n1\n1\n0\n0\n1\n1\n0\n1\n1\n0\n1\n0\n1\n0\n0\n1\n1\n1\n1\n0\n0\n0\n1\n1\n0\n1\n1\n1\n0\n1\n1\n1\n1\n0\n0\n1\n1\n0\n0\n1\n1\n1\n1\n1\n1\n0\n1\n1\n1\n0\n0\n0\n1\n0\n0\n1\n0\n0\n1\n1\n1\n1\n1\n1\n1\n1\n0\n1\n1\n1\n0\n1\n1\n0\n1\n1\n0\n0\n0\n1\n0\n1\n0\n0\n1\n0\n1\n0\n1\n1\n0\n0\n1\n0\n1\n1\n0\n1\n1\n1\n1\n1\n1\n1\n0\n1\n1\n1\n1\n1\n1\n1\n1\n1\n0\n1\n0\n0\n1\n0\n1\n0\n1\n0\n0\n1\n1\n1\n1\n1\n1\n1\n0\n0\n0\n1\n1\n0\n0\n0\n0\n1\n0\n1\n1\n1\n0\n1\n1\n1\n1\n1\n0\n0\n1\n0\n0\n0\n0\n1\n0\n1\n0\n1\n1\n1\n1\n0\n0\n1\n1\n1\n1\n1\n0\n1\n0\n1\n0\n1\n0\n1\n0\n0\n0\n0\n0\n0\n1\n1\n1\n0\n0\n1\n0\n1\n0\n1\n0\n1\n1\n0\n0\n0\n0\n0\n0\n0\n0\n1\n1\n0\n1\n1\n0\n0\n1\n0\n1\n0\n1\n0\n1\n1\n1\n0\n1\n0\n0\n0\n1\n0\n1\n1\n1\n1\n1\n0\n0\n0\n1\n1\n0\n0\n1\n0\n1\n0\n0\n0\n1\n1\n0\n0\n1\n1\n1\n0\n1\n1\n1\n0\n1\n1\n1\n1\n0\n0\n0\n0\n1\n1\n0\n0\n0\n1\n1\n0\n1\n0\n1\n0\n0\n1\n1\n1\n1\n1\n0\n1\n1\n1\n1\n0\n1\n1\n1\n1\n1\n0\n0\n1\n0\n1\n1\n0\n0\n1\n1\n1\n1\n1\n1\n0\n0\n0\n0\n1\n1\n1\n1\n1\n1\n1\n0\n0\n0\n0\n0\n1\n1\n1\n1\n1\n1\n1\n1\n1\n0\n0\n1\n1\n1\n1\n0\n0\n0\n1\n1\n1\n0\n0\n1\n1\n1\n0\n1\n0\n1\n0\n1\n1\n0\n1\n1\n1\n0\n1\n1\n0\n1\n1\n1\n0\n1\n0\n1\n1\n0\n0\n1\n0\n0\n1\n0\n1\n1\n1\n1\n1\n1\n1\n0\n1\n1\n0\n1\n1\n0\n1\n0\n1\n1\n1\n0\n1\n0\n1\n0\n0\n1\n1\n1\n0\n1\n1\n1\n0\n1\n1\n0\n1\n0\n1\n1\n0\n1\n1\n1\n0\n0\n1\n0\n1\n1\n0\n0\n1\n1\n1\n0\n0\n1\n0\n1\n1\n1\n0\n1\n0\n0\n1\n1\n1\n1\n0\n1\n0\n1\n0\n0\n1\n0\n0\n0\n0\n1\n0\n1\n0\n1\n1\n1\n0\n1\n1\n1\n1\n1\n1\n1\n0\n0\n1\n0\n1\n0\n1\n1\n1\n0\n0\n1\n0\n1\n0\n0\n0\n0\n1\n1\n0\n1\n1\n1\n1\n1\n1\n0\n0\n0\n0\n0\n1\n0\n1\n0\n1\n0\n0\n1\n1\n1\n1\n0\n1\n1\n0\n0\n1\n0\n1\n0\n1\n0\n1\n1\n1\n0\n1\n1\n1\n1\n1\n0\n1\n0\n1\n0\n0\n1\n0\n0\n1\n0\n1\n0\n0\n0\n1\n1\n1\n1\n1\n1\n1\n1\n0\n1\n1\n0\n1\n1\n1\n0\n0\n1\n1\n1\n0\n1\n0\n0\n0\n1\n1\n0\n1\n0\n0\n1\n0\n1\n0\n0\n0\n0\n0\n1\n1\n0\n1\n0\n0\n1\n0\n1\n0\n1\n1\n0\n0\n1\n1\n1\n0\n0\n0\n1\n0\n1\n0\n1\n1\n0\n1\n1\n0\n0\n0\n0\n0\n0\n1\n1\n1\n1\n1\n1\n1\n0\n1\n1\n0\n0\n0\n0\n1\n0\n0\n0\n1\n1\n0\n1\n1\n0\n1\n0\n0\n1\n0\n0\n0\n1\n1\n0\n1\n0\n1\n1\n0\n1\n1\n1\n1\n0\n1\n0\n1\n1\n1\n1\n0\n1\n0\n1\n0\n1\n1\n0\n1\n0\n0\n1\n1\n0\n0\n0\n1\n0\n1\n1\n1\n1\n0\n1\n1\n1\n1\n0\n1\n0\n1\n0\n1\n1\n1\n1\n1\n1\n0\n0\n1\n0\n1\n0\n1\n1\n0\n1\n1\n0\n1\n0\n0\n1\n1\n0\n1\n1\n0\n1\n1\n1\n1\n0\n1\n1\n1\n0\n0\n1\n0\n1\n0\n0\n1\n1\n1\n1\n0\n0\n0\n1\n1\n0\n1\n1\n1\n0\n1\n0\n1\n1\n1\n0\n1\n1\n1\n1\n1\n0\n0\n0\n0\n1\n0\n0\n0\n1\n0\n1\n1\n1\n1\n0\n0\n1\n0\n1\n1\n1\n0\n1\n1\n1\n1\n0\n1\n1\n1\n0\n1\n0\n1\n1\n1\n1\n1\n0\n0\n1\n0\n1\n0\n0\n1\n0\n0\n0\n1\n1\n0\n1\n0\n1\n0\n1\n1\n0\n1\n1\n1\n1\n1\n1\n0\n0\n0\n1\n0\n1\n0\n1\n0\n0\n1\n1\n1\n0\n1\n1\n0\n1\n0\n1\n0\n1\n1\n1\n0\n0\n1\n1\n0\n0\n1\n0\n1\n1\n0\n1\n1\n1\n0\n1\n0\n1\n0\n1\n0\n0\n1\n0\n0\n0\n1\n0\n1\n0\n1\n0\n1\n0\n1\n1\n0\n0\n0\n1\n0\n1\n0\n1\n1\n1\n1\n0\n0\n0\n0\n1\n1\n1\n1\n0\n1\n1\n1\n1\n1\n0\n0\n0\n1\n1\n1\n0\n1\n0\n1\n0\n1\n1\n0\n1\n0\n0\n0\n1\n0\n0\n0\n1\n1\n1\n0\n1\n0\n1\n1\n1\n0\n0\n0\n1\n0\n1\n1\n1\n0\n1\n1\n0\n1\n0\n1\n1\n1\n1\n0\n1\n1\n1\n1\n0\n0\n1\n1\n0\n0\n1\n0\n1\n0\n1\n1\n0\n0\n0\n1\n1\n0\n1\n0\n0\n1\n0\n0\n0\n1\n1\n1\n1\n1\n0\n1\n1\n1\n0\n1\n0\n0\n0\n0\n0\n1\n0\n0\n1\n1\n1\n1\n0\n1\n1\n0\n0\n1\n0\n0\n1\n1\n1\n1\n1\n1\n0\n0\n0\n1\n1\n1\n0\n1\n1\n0\n1\n1\n1\n1\n0\n1\n1\n0\n0\n1\n1\n0\n1\n1\n1\n0\n0\n1\n1\n0\n1\n0\n1\n0\n1\n1\n1\n1\n0\n0\n0\n1\n1\n1\n1\n0\n1\n1\n0\n0\n0\n0\n0\n0\n1\n1\n1\n1\n1\n1\n0\n1\n0\n1\n0\n1\n1\n1\n1\n1\n0\n1\n1\n0\n1\n0\n1\n1\n0\n1\n1\n1\n0\n0\n1\n1\n1\n0\n1\n0\n1\n0\n1\n1\n1\n1\n0\n1\n1\n1\n1\n1\n1\n1\n1\n1\n0\n1\n0\n0\n0\n1\n1\n0\n1\n1\n1\n0\n1\n0\n1\n1\n1\n1\n1\n0\n0\n1\n1\n0\n0\n1\n1\n1\n1\n0\n0\n1\n1\n1\n0\n0\n1\n1\n0\n0\n1\n1\n1\n1\n0\n1\n0\n1\n1\n1\n1\n0\n1\n0\n0\n0\n1\n1\n1\n0\n0\n0\n1\n0\n0\n1\n1\n0\n1\n0\n0\n0\n1\n1\n1\n0\n1\n0\n1\n1\n1\n1\n0\n1\n0\n0\n0\n1\n0\n0\n1\n1\n0\n1\n1\n1\n1\n0\n1\n1\n1\n1\n0\n0\n0\n0\n1\n0\n0\n0\n1\n0\n0\n0\n1\n1\n1\n1\n1\n1\n0\n1\n1\n0\n1\n1\n0\n0\n1\n1\n0\n0\n0\n0\n0\n0\n1\n1\n1\n1\n1\n0\n0\n1\n0\n0\n0\n0\n0\n0\n1\n1\n0\n1\n0\n1\n1\n0\n0\n1\n0\n0\n1\n1\n0\n1\n0\n1\n0\n0\n1\n1\n0\n0\n0\n1\n0\n1\n0\n1\n1\n1\n1\n0\n1\n0\n0\n1\n0\n1\n0\n1\n1\n0\n0\n0\n0\n1\n1\n1\n1\n1\n0\n0\n0\n0\n0\n1\n1\n1\n1\n1\n1\n0\n1\n0\n1\n0\n0\n1\n0\n0\n0\n1\n1\n1\n0\n1\n1\n1\n1\n0\n1\n1\n0\n1\n0\n1\n1\n1\n1\n1\n1\n0\n1\n0\n1\n0\n0\n1\n1\n0\n0\n1\n0\n1\n1\n1\n1\n1\n0\n1\n1\n1\n1\n1\n1\n0\n1\n0\n0\n1\n1\n0\n0\n1\n0\n0\n0\n0\n0\n1\n0\n1\n1\n0\n0\n1\n1\n1\n1\n0\n1\n1\n1\n0\n1\n0\n1\n1\n1\n1\n0\n1\n1\n0\n0\n1\n0\n0\n1\n0\n1\n0\n1\n0\n1\n0\n1\n1\n0\n1\n0\n1\n1\n0\n1\n0\n1\n1\n1\n1\n1\n0\n0\n1\n1\n1\n0\n1\n0\n1\n1\n1\n1\n0\n0\n1\n1\n0\n0\n1\n1\n0\n0\n0\n1\n1\n0\n0\n0\n0\n1\n1\n0\n0\n0\n1\n1\n0\n0\n0\n0\n1\n1\n1\n1\n0\n1\n0\n1\n1\n0\n1\n1\n0\n1\n0\n1\n1\n1\n1\n0\n1\n0\n1\n0\n1\n0\n0\n0\n0\n1\n0\n0\n0\n0\n1\n0\n1\n1\n1\n1\n0\n0\n1\n1\n0\n0\n1\n0\n1\n0\n0\n0\n1\n0\n1\n1\n0\n0\n0\n0\n1\n1\n0\n1\n1\n1\n0\n1\n0\n0\n1\n1\n1\n1\n1\n0\n1\n1\n0\n1\n0\n1\n0\n1\n0\n1\n1\n0\n1\n1\n1\n1\n0\n0\n0\n0\n0\n1\n1\n1\n1\n1\n0\n0\n1\n0\n0\n1\n1\n1\n0\n1\n1\n0\n1\n1\n1\n1\n1\n1\n1\n1\n0\n1\n0\n0\n1\n1\n1\n1\n1\n1\n1\n0\n0\n0\n1\n1\n1\n0\n1\n1\n0\n1\n1\n0\n0\n1\n1\n0\n1\n0\n0\n0\n0\n0\n1\n1\n1\n1\n1\n1\n1\n1\n1\n1\n1\n0\n0\n0\n0\n1\n0\n1\n0\n1\n1\n1\n1\n1\n0\n1\n0\n0\n0\n1\n1\n0\n1\n0\n0\n1\n1\n1\n1\n0\n1\n1\n0\n0\n1\n1\n1\n1\n0\n1\n1\n0\n1\n1\n1\n1\n0\n0\n0\n0\n0\n1\n1\n0\n1\n0\n1\n1\n1\n0\n1\n1\n1\n0\n1\n0\n1\n1\n1\n0\n0\n0\n0\n1\n1\n1\n0\n0\n1\n1\n0\n0\n1\n1\n1\n1\n1\n1\n1\n0\n1\n1\n0\n0\n0\n1\n0\n0\n1\n1\n0\n1\n0\n1\n0\n1\n0\n0\n1\n0\n1\n1\n1\n0\n1\n1\n1\n0\n1\n0\n1\n0\n1\n1\n1\n1\n0\n1\n1\n0\n1\n1\n1\n0\n0\n0\n0\n1\n1\n1\n0\n1\n0\n0\n1\n1\n1\n0\n1\n0\n0\n1\n1\n1\n0\n0\n1\n1\n1\n1\n0\n0\n1\n1\n1\n1\n1\n0\n1\n1\n1\n0\n1\n1\n1\n0\n1\n0\n0\n1\n1\n1\n1\n0\n1\n1\n0\n0\n0\n0\n0\n0\n0\n1\n0\n1\n0\n1\n1\n0\n1\n0\n1\n0\n1\n1\n0\n1\n0\n0\n0\n1\n1\n1\n1\n0\n1\n0\n0\n1\n0\n1\n1\n1\n1\n0\n1\n1\n1\n1\n0\n1\n1\n1\n1\n0\n1\n1\n0\n1\n1\n0\n0\n0\n1\n0\n0\n1\n1\n0\n0\n1\n1\n0\n1\n1\n1\n1\n1\n1\n0\n0\n1\n0\n1\n0\n1\n1\n1\n0\n1\n1\n0\n1\n0\n1\n1\n0\n1\n1\n1\n0\n1\n1\n1\n1\n1\n1\n0\n0\n0\n1\n1\n1\n1\n1\n0\n1\n1\n1\n0\n1\n1\n1\n0\n0\n0\n1\n0\n1\n0\n0\n0\n0\n0\n1\n1\n0\n0\n1\n0\n0\n0\n1\n1\n1\n0\n0\n0\n0\n0\n0\n1\n1\n1\n0\n1\n1\n1\n1\n0\n0\n1\n1\n0\n1\n1\n1\n0\n0\n0\n1\n0\n1\n1\n1\n1\n1\n1\n0\n1\n1\n1\n0\n1\n1\n0\n1\n0\n1\n0\n0\n0\n1\n0\n1\n1\n0\n0\n0\n0\n0\n0\n1\n1\n1\n1\n0\n1\n1\n0\n0\n0\n0\n1\n1\n1\n0\n0\n1\n0\n1\n1\n0\n0\n1\n1\n1\n1\n1\n1\n1\n1\n1\n0\n0\n0\n0\n1\n1\n0\n1\n1\n0\n0\n1\n1\n0\n0\n1\n1\n1\n1\n1\n1\n0\n1\n1\n0\n1\n0\n0\n1\n0\n1\n1\n1\n0\n1\n1\n0\n0\n1\n1\n1\n1\n1\n1\n1\n1\n1\n0\n1\n1\n0\n0\n1\n1\n1\n1\n0\n0\n1\n1\n0\n0\n1\n0\n1\n0\n1\n1\n0\n0\n0\n1\n1\n0\n1\n0\n0\n0\n0\n1\n1\n0\n1\n1\n1\n0\n1\n0\n0\n1\n1\n0\n0\n1\n0\n0\n0\n0\n1\n0\n0\n0\n1\n1\n1\n1\n0\n1\n1\n0\n0\n1\n0\n0\n0\n1\n0\n1\n1\n1\n1\n1\n0\n1\n0\n0\n1\n0\n1\n1\n1\n1\n0\n0\n0\n0\n1\n1\n1\n1\n1\n0\n1\n0\n1\n0\n1\n0\n1\n1\n1\n0\n1\n1\n0\n1\n1\n1\n1\n1\n1\n1\n0\n0\n0\n0\n0\n0\n1\n0\n1\n1\n1\n1\n1\n0\n0\n0\n1\n0\n1\n0\n1\n0\n0\n1\n1\n1\n1\n0\n1\n1\n1\n1\n1\n1\n0\n0\n1\n0\n0\n0\n0\n1\n0\n1\n1\n1\n0\n1\n0\n1\n0\n1\n1\n0\n1\n1\n1\n0\n1\n0\n1\n1\n0\n1\n0\n1\n1\n1\n0\n1\n0\n0\n1\n1\n1\n1\n1\n0\n0\n1\n0\n1\n1\n1\n1\n1\n1\n1\n0\n0\n0\n1\n0\n1\n1\n1\n0\n1\n1\n1\n0\n1\n1\n0\n1\n1\n0\n0\n1\n0\n1\n1\n1\n1\n1\n1\n1\n0\n0\n1\n1\n1\n0\n1\n1\n1\n1\n1\n1\n1\n0\n1\n1\n1\n0\n0\n0\n1\n1\n0\n0\n0\n1\n1\n1\n1\n1\n1\n1\n1\n0\n1\n0\n0\n0\n0\n0\n0\n1\n1\n0\n0\n0\n0\n1\n1\n0\n0\n0\n1\n1\n0\n0\n1\n1\n0\n1\n1\n1\n0\n1\n1\n1\n1\n1\n0\n0\n1\n0\n1\n1\n1\n1\n1\n0\n1\n1\n1\n1\n0\n1\n1\n1\n1\n1\n1\n0\n1\n0\n0\n0\n1\n0\n0\n0\n1\n1\n0\n0\n0\n0\n1\n1\n1\n1\n1\n1\n1\n1\n1\n1\n1\n0\n1\n0\n1\n1\n0\n1\n0\n0\n0\n1\n0\n0\n1\n0\n1\n1\n1\n1\n0\n0\n1\n1\n0\n1\n1\n1\n0\n1\n1\n0\n0\n1\n0\n0\n1\n0\n1\n1\n1\n1\n1\n1\n0\n0\n0\n0\n0\n0\n1\n1\n1\n1\n1\n0\n0\n1\n0\n0\n1\n0\n1\n1\n0\n1\n1\n0\n1\n0\n0\n1\n1\n0\n1\n1\n0\n1\n1\n1\n1\n0\n0\n1\n1\n1\n1\n1\n1\n0\n1\n0\n1\n1\n0\n1\n0\n1\n1\n0\n1\n0\n1\n1\n1\n1\n1\n1\n0\n1\n0\n1\n1\n1\n0\n0\n0\n0\n1\n1\n1\n0\n0\n1\n1\n1\n1\n1\n0\n0\n1\n1\n1\n1\n1\n1\n1\n0\n1\n0\n1\n1\n1\n0\n0\n1\n0\n0\n0\n0\n0\n1\n1\n0\n1\n1\n1\n1\n1\n1\n0\n1\n0\n0\n1\n0\n1\n1\n0\n0\n0\n0\n0\n1\n0\n0\n0\n1\n0\n1\n0\n1\n1\n1\n0\n0\n0\n0\n1\n0\n0\n1\n1\n1\n0\n1\n0\n1\n1\n1\n0\n1\n0\n0\n1\n1\n1\n1\n0\n1\n0\n1\n1\n1\n0\n1\n1\n1\n1\n1\n1\n1\n1\n1\n0\n1\n1\n1\n0\n0\n0\n0\n0\n0\n1\n1\n1\n1\n1\n0\n0\n0\n0\n1\n1\n1\n1\n0\n1\n1\n0\n1\n0\n0\n0\n0\n1\n1\n0\n1\n1\n0\n0\n1\n0\n1\n1\n1\n1\n1\n0\n0\n1\n1\n1\n0\n1\n0\n1\n1\n1\n1\n1\n0\n1\n1\n0\n1\n1\n0\n1\n1\n1\n0\n1\n1\n0\n0\n1\n1\n0\n1\n1\n1\n1\n0\n1\n1\n0\n0\n1\n1\n0\n0\n1\n1\n1\n1\n1\n0\n1\n0\n0\n1\n0\n1\n0\n1\n1\n0\n0\n0\n0\n0\n0\n0\n1\n0\n0\n0\n0\n1\n1\n1\n1\n1\n0\n1\n1\n0\n0\n1\n0\n1\n0\n0\n0\n1\n1\n0\n1\n1\n0\n0\n1\n0\n1\n0\n1\n1\n0\n0\n0\n0\n0\n1\n1\n0\n0\n0\n1\n0\n0\n1\n0\n1\n0\n0\n0\n1\n0\n1\n1\n0\n1\n1\n0\n1\n1\n1\n1\n1\n1\n1\n1\n0\n1\n0\n0\n0\n1\n1\n0\n0\n0\n0\n1\n0\n1\n0\n0\n1\n0\n1\n1\n1\n1\n0\n0\n0\n1\n0\n1\n0\n0\n1\n1\n0\n1\n0\n0\n1\n1\n1\n1\n1\n1\n1\n1\n1\n1\n1\n1\n1\n0\n1\n1\n0\n1\n1\n1\n1\n0\n0\n0\n0\n1\n0\n1\n1\n0\n1\n1\n0\n1\n0\n0\n1\n1\n1\n1\n0\n1\n0\n0\n1\n1\n0\n1\n1\n1\n1\n0\n1\n0\n0\n1\n1\n0\n1\n0\n1\n1\n1\n1\n1\n0\n1\n0\n0\n1\n1\n1\n0\n0\n1\n1\n1\n1\n1\n0\n1\n1\n1\n1\n1\n1\n1\n1\n1\n0\n1\n0\n1\n0\n1\n0\n1\n0\n1\n0\n0\n1\n1\n0\n0\n0\n0\n0\n1\n1\n0\n0\n0\n1\n0\n1\n0\n0\n1\n1\n0\n1\n1\n0\n1\n1\n1\n1\n1\n0\n1\n0\n1\n1\n0\n0\n1\n0\n0\n1\n1\n1\n1\n1\n1\n1\n0\n0\n0\n0\n1\n1\n1\n1\n1\n1\n1\n1\n1\n0\n0\n0\n0\n0\n1\n0\n1\n1\n0\n1\n1\n1\n1\n0\n1\n1\n0\n1\n1\n0\n1\n1\n1\n1\n0\n1\n1\n1\n0\n1\n0\n1\n0\n1\n1\n1\n1\n0\n1\n1\n1\n1\n0\n0\n1\n1\n0\n1\n0\n1\n1\n0\n0\n0\n1\n1\n1\n1\n1\n1\n1\n1\n1\n1\n1\n1\n0\n0\n1\n0\n1\n0\n1\n1\n1\n1\n0\n1\n1\n1\n0\n1\n1\n1\n1\n1\n1\n1\n0\n1\n1\n0\n1\n0\n0\n1\n0\n1\n0\n0\n1\n1\n1\n1\n1\n1\n0\n1\n0\n1\n0\n0\n1\n0\n0\n1\n1\n1\n1\n1\n0\n1\n1\n0\n1\n1\n1\n1\n1\n0\n0\n1\n0\n1\n1\n0\n1\n1\n1\n1\n1\n0\n1\n1\n0\n0\n1\n0\n0\n1\n1\n0\n0\n0\n1\n1\n1\n1\n0\n1\n1\n0\n1\n1\n1\n1\n1\n1\n1\n0\n0\n1\n1\n1\n0\n0\n1\n1\n0\n1\n1\n1\n1\n1\n0\n1\n0\n1\n0\n1\n1\n0\n0\n1\n1\n1\n1\n0\n0\n1\n0\n0\n1\n0\n0\n0\n0\n1\n1\n1\n0\n0\n1\n1\n1\n1\n1\n1\n1\n1\n1\n1\n0\n1\n0\n1\n1\n1\n0\n1\n1\n0\n0\n1\n1\n0\n1\n1\n1\n0\n1\n1\n1\n1\n0\n1\n0\n1\n1\n0\n0\n1\n1\n0\n0\n0\n1\n1\n1\n1\n1\n1\n0\n1\n0\n1\n0\n0\n1\n1\n0\n0\n0\n1\n1\n0\n0\n1\n0\n1\n1\n1\n0\n1\n1\n1\n0\n0\n0\n1\n0\n1\n1\n1\n1\n1\n0\n1\n0\n0\n1\n1\n1\n0\n1\n1\n1\n0\n1\n0\n0\n1\n1\n1\n1\n0\n1\n0\n0\n0\n0\n1\n1\n0\n0\n1\n1\n1\n1\n1\n1\n0\n1\n1\n1\n0\n1\n0\n0\n1\n1\n0\n1\n0\n1\n1\n0\n1\n1\n1\n0\n0\n1\n0\n1\n1\n1\n1\n0\n0\n0\n0\n0\n1\n0\n1\n1\n0\n0\n0\n1\n0\n1\n1\n0\n1\n1\n0\n0\n0\n0\n1\n1\n0\n1\n0\n0\n1\n1\n1\n1\n0\n0\n0\n1\n1\n1\n1\n1\n1\n0\n0\n1\n0\n0\n0\n0\n1\n1\n1\n1\n0\n1\n1\n1\n1\n1\n0\n0\n0\n1\n1\n1\n0\n0\n0\n1\n1\n1\n1\n1\n0\n0\n1\n1\n1\n1\n1\n0\n1\n0\n1\n0\n1\n1\n1\n0\n0\n1\n0\n1\n0\n0\n1\n1\n0\n0\n0\n0\n1\n1\n1\n1\n1\n1\n0\n1\n1\n0\n1\n1\n1\n1\n1\n1\n1\n0\n0\n1\n0\n1\n1\n1\n0\n1\n0\n0\n0\n1\n0\n0\n1\n1\n0\n1\n1\n1\n0\n0\n0\n1\n0\n0\n0\n1\n1\n0\n1\n1\n1\n0\n1\n1\n0\n0\n1\n0\n0\n0\n1\n1\n0\n0\n1\n1\n0\n1\n0\n1\n1\n1\n1\n0\n0\n1\n1\n0\n0\n0\n1\n0\n1\n0\n1\n1\n0\n1\n1\n1\n1\n0\n0\n1\n1\n1\n0\n0\n1\n0\n1\n0\n1\n1\n0\n0\n0\n0\n1\n1\n1\n0\n0\n0\n0\n1\n1\n1\n0\n0\n1\n0\n0\n1\n0\n0\n0\n0\n0\n1\n0\n0\n1\n1\n1\n0\n1\n0\n1\n0\n1\n0\n0\n1\n1\n0\n1\n0\n0\n0\n1\n1\n1\n1\n1\n1\n1\n0\n0\n1\n1\n0\n0\n1\n1\n0\n1\n1\n1\n0\n1\n0\n1\n0\n0\n1\n0\n1\n1\n1\n0\n0\n0\n1\n1\n0\n0\n1\n1\n1\n1\n1\n1\n1\n1\n1\n1\n1\n0\n1\n0\n0\n0\n1\n1\n1\n0\n1\n1\n1\n0\n1\n1\n1\n0\n1\n1\n1\n0\n1\n0\n0\n0\n1\n0\n1\n0\n1\n0\n0\n1\n0\n0\n1\n1\n1\n0\n1\n1\n1\n1\n1\n0\n1\n1\n1\n0\n0\n1\n0\n0\n0\n0\n1\n0\n0\n1\n1\n1\n1\n0\n0\n0\n1\n1\n1\n0\n1\n0\n1\n1\n0\n0\n1\n1\n1\n0\n1\n0\n1\n1\n1\n1\n1\n1\n0\n1\n0\n0\n1\n0\n1\n0\n0\n0\n0\n1\n1\n1\n0\n0\n0\n1\n1\n1\n1\n0\n1\n0\n1\n1\n1\n1\n1\n1\n0\n0\n1\n0\n1\n1\n1\n0\n1\n1\n0\n1\n1\n1\n1\n1\n0\n1\n1\n1\n0\n0\n0\n1\n0\n1\n0\n1\n0\n1\n0\n1\n0\n0\n0\n1\n1\n1\n1\n1\n1\n1\n1\n1\n1\n1\n1\n0\n0\n1\n1\n0\n0\n0\n1\n0\n1\n0\n0\n0\n0\n0\n1\n1\n1\n1\n0\n1\n1\n1\n0\n1\n1\n0\n1\n1\n1\n1\n1\n0\n1\n1\n1\n0\n0\n1\n0\n0\n1\n1\n1\n1\n1\n0\n0\n1\n0\n0\n1\n0\n0\n1\n1\n0\n0\n0\n1\n1\n0\n1\n0\n0\n1\n0\n1\n1\n1\n1\n1\n1\n0\n0\n0\n0\n1\n0\n1\n0\n1\n0\n0\n1\n0\n1\n1\n1\n1\n1\n1\n0\n0\n0\n0\n1\n1\n0\n1\n1\n0\n1\n0\n1\n1\n1\n1\n1\n0\n1\n0\n0\n0\n1\n1\n0\n0\n0\n1\n1\n1\n0\n0\n0\n0\n1\n1\n0\n1\n1\n1\n0\n1\n0\n0\n0\n1\n1\n0\n0\n0\n0\n1\n1\n0\n1\n1\n1\n1\n0\n0\n1\n1\n0\n1\n1\n1\n1\n1\n1\n0\n1\n0\n0\n1\n1\n0\n0\n0\n1\n0\n0\n1\n0\n1\n1\n1\n0\n1\n1\n1\n1\n0\n1\n0\n1\n0\n0\n1\n1\n0\n1\n0\n0\n1\n1\n0\n0\n0\n0\n1\n0\n1\n1\n1\n0\n0\n0\n1\n1\n1\n1\n1\n1\n1\n0\n1\n0\n1\n1\n0\n1\n0\n1\n1\n0\n1\n0\n1\n1\n1\n0\n0\n1\n1\n0\n1\n0\n0\n0\n0\n0\n0\n0\n0\n0\n1\n1\n1\n0\n1\n0\n1\n0\n1\n1\n1\n0\n1\n1\n0\n1\n0\n1\n1\n1\n1\n1\n1\n0\n0\n0\n0\n0\n1\n1\n1\n1\n0\n0\n1\n1\n1\n0\n0\n1\n1\n1\n0\n1\n1\n0\n1\n0\n1\n1\n0\n1\n0\n1\n1\n1\n1\n0\n0\n1\n1\n1\n0\n1\n0\n0\n0\n1\n1\n0\n1\n1\n1\n1\n0\n1\n1\n1\n0\n0\n1\n1\n0\n0\n1\n0\n0\n1\n1\n1\n0\n1\n1\n1\n1\n1\n0\n0\n1\n1\n0\n0\n1\n1\n0\n1\n0\n0\n0\n1\n1\n1\n1\n1\n0\n0\n0\n1\n1\n0\n0\n1\n1\n0\n0\n1\n0\n0\n1\n1\n0\n0\n0\n1\n1\n1\n0\n1\n1\n0\n0\n1\n0\n0\n0\n0\n1\n0\n0\n0\n0\n1\n1\n1\n0\n0\n0\n1\n"
    }
   ],
   "source": [
    "##Подход 2: логистическая регрессия\n",
    "## №6\n",
    "\n",
    "import pandas\n",
    "import numpy as np\n",
    "import time\n",
    "import datetime\n",
    "from sklearn.model_selection import KFold\n",
    "from sklearn.model_selection import cross_val_score\n",
    "from sklearn.ensemble import GradientBoostingClassifier\n",
    "\n",
    "features = pandas.read_csv('./features.csv', index_col='match_id')\n",
    "gameFeature = features.iloc[:,:102]\n",
    "X_data = gameFeature.fillna(0)\n",
    "y_data = features.iloc[:,103]\n",
    "\n",
    "features_test = pandas.read_csv('./features_test.csv', index_col='match_id')\n",
    "X_test = features_test.fillna(0)\n",
    "\n",
    "kf = KFold(n_splits=5, shuffle=True)\n",
    "gbc = GradientBoostingClassifier(n_estimators=30)\n",
    "cross_val_score(gbc, X=X_data, y=y_data, cv=kf, scoring='roc_auc')\n",
    "gbc.fit(X_data,y_data)\n",
    "result = gbc.predict(X_test)\n",
    "for item in result:\n",
    "    print(item)\n"
   ]
  },
  {
   "cell_type": "code",
   "execution_count": null,
   "metadata": {},
   "outputs": [],
   "source": []
  }
 ],
 "metadata": {
  "language_info": {
   "codemirror_mode": {
    "name": "ipython",
    "version": 3
   },
   "file_extension": ".py",
   "mimetype": "text/x-python",
   "name": "python",
   "nbconvert_exporter": "python",
   "pygments_lexer": "ipython3",
   "version": "3.8.2-final"
  },
  "orig_nbformat": 2,
  "kernelspec": {
   "name": "python38132bit0f79a77b54e14cc38ef7745b20dc9960",
   "display_name": "Python 3.8.1 32-bit"
  }
 },
 "nbformat": 4,
 "nbformat_minor": 2
}